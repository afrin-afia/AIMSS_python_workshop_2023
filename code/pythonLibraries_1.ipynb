{
  "nbformat": 4,
  "nbformat_minor": 0,
  "metadata": {
    "colab": {
      "provenance": [],
      "authorship_tag": "ABX9TyOZ+kcwF1qYPdandgfJOo3l",
      "include_colab_link": true
    },
    "kernelspec": {
      "name": "python3",
      "display_name": "Python 3"
    },
    "language_info": {
      "name": "python"
    }
  },
  "cells": [
    {
      "cell_type": "markdown",
      "metadata": {
        "id": "view-in-github",
        "colab_type": "text"
      },
      "source": [
        "<a href=\"https://colab.research.google.com/github/afrin-afia/AIMSS_python_workshop_2023/blob/main/code/pythonLibraries_1.ipynb\" target=\"_parent\"><img src=\"https://colab.research.google.com/assets/colab-badge.svg\" alt=\"Open In Colab\"/></a>"
      ]
    },
    {
      "cell_type": "code",
      "execution_count": null,
      "metadata": {
        "colab": {
          "base_uri": "https://localhost:8080/"
        },
        "id": "43nC3KpFUFel",
        "outputId": "5676b213-da38-496f-f611-534b39aee5b5"
      },
      "outputs": [
        {
          "output_type": "stream",
          "name": "stdout",
          "text": [
            "[1 2 3 4 5]\n",
            "[5 4 3 2 1]\n",
            "[27074432        0        0        0        0]\n",
            "[[1.33765704e-316 0.00000000e+000 0.00000000e+000]\n",
            " [0.00000000e+000 0.00000000e+000 0.00000000e+000]]\n",
            "[[ 1  3  5  7]\n",
            " [ 2  4  6  8]\n",
            " [-1 -2 -3 -4]]\n",
            "[[[19 14]\n",
            "  [ 3  7]\n",
            "  [ 0  6]]\n",
            "\n",
            " [[19 19]\n",
            "  [11  8]\n",
            "  [19 11]]\n",
            "\n",
            " [[ 0 13]\n",
            "  [11 15]\n",
            "  [ 3 12]]\n",
            "\n",
            " [[18 10]\n",
            "  [10 13]\n",
            "  [ 6  5]]]\n"
          ]
        }
      ],
      "source": [
        "#cell 1: numpy- creating arrays and ndarrays\n",
        "import numpy as np\n",
        "\n",
        "#tuple to array\n",
        "array0= np.array( (3,5,7,9) )\n",
        "\n",
        "#list to array\n",
        "array1= np.array([1,2,3,4,5])\n",
        "#or\n",
        "l= [5,4,3,2,1]\n",
        "array2= np.array(l)\n",
        "print(array1)\n",
        "print(array2)\n",
        "\n",
        "#create array with arange\n",
        "a= np.arange(1,10)  #a=[1, 2, ...9]\n",
        "\n",
        "#create array of zeros or ones\n",
        "n= 5\n",
        "array_zero= np.zeros(n)     #array of n zeros\n",
        "array_ones= np.ones(n)\n",
        "\n",
        "#create a blank integer array\n",
        "blank_array= np.empty(n, dtype=int)\n",
        "print(blank_array)      #garbage values, there is nothing called 'blank'!\n",
        "\n",
        "#create empty 2D array\n",
        "array_2d= np.ndarray(shape=(2,3))\n",
        "print(array_2d)   #garbage values\n",
        "\n",
        "#create 2d array with fixed elements\n",
        "array2d= np.array( [ [1,3,5,7], [2,4,6,8], [-1,-2,-3,-4] ] )\n",
        "print(array2d)\n",
        "\n",
        "#create 3d array\n",
        "array_3d= np.random.randint(0,20,size=(4,3,2))    #array of 4 arrays, each of shape (3,2)\n",
        "print(array_3d)"
      ]
    },
    {
      "cell_type": "code",
      "source": [
        "#cell 2: numpy array indexing & slicing\n",
        "#indexing\n",
        "print(array1[2])\n",
        "\n",
        "#slicing\n",
        "print(array1[2:4])\n",
        "\n",
        "#indexing 2d array\n",
        "print(array2d [0,1] )\n",
        "\n",
        "#slicing 2d array\n",
        "print( array2d [:,0] )    #read only the first column\n",
        "\n",
        "print( array2d [1,:] )    #read the second row\n",
        "\n",
        "print ( array2d [0:2, 0:2] )      #read first two rows & first two columns\n",
        "\n",
        "\n"
      ],
      "metadata": {
        "colab": {
          "base_uri": "https://localhost:8080/"
        },
        "id": "VUxYC-RxjOmU",
        "outputId": "a289347e-b8b6-4eb9-9da2-55901f75ff58"
      },
      "execution_count": null,
      "outputs": [
        {
          "output_type": "stream",
          "name": "stdout",
          "text": [
            "3\n",
            "[3 4]\n",
            "3\n",
            "[ 1  2 -1]\n",
            "[2 4 6 8]\n",
            "[[1 3]\n",
            " [2 4]]\n"
          ]
        }
      ]
    },
    {
      "cell_type": "code",
      "source": [
        "#cell 3: array shape and reshape\n",
        "\n",
        "#shape\n",
        "print(array_3d.shape)\n",
        "\n",
        "#rows\n",
        "print(array_2d.shape[0])\n",
        "\n",
        "#reshaping arrays: convert array_3d to a 2d array\n",
        "new_array= array_3d.reshape((6,4))      #overall array size needs to be the same (4*3*2 = 6*4)\n",
        "print(new_array)"
      ],
      "metadata": {
        "id": "Re1vnIR_o9WD",
        "colab": {
          "base_uri": "https://localhost:8080/"
        },
        "outputId": "44ad37fa-c968-4d10-e36a-de7afe406068"
      },
      "execution_count": null,
      "outputs": [
        {
          "output_type": "stream",
          "name": "stdout",
          "text": [
            "(4, 3, 2)\n",
            "2\n",
            "[[19 14  3  7]\n",
            " [ 0  6 19 19]\n",
            " [11  8 19 11]\n",
            " [ 0 13 11 15]\n",
            " [ 3 12 18 10]\n",
            " [10 13  6  5]]\n"
          ]
        }
      ]
    },
    {
      "cell_type": "code",
      "source": [
        "#cell 4: iterating arrays (read array elements one by one)\n",
        "\n",
        "#iterating 1d array\n",
        "for element in array2:\n",
        "  print(element)\n",
        "\n",
        "#iterating 2d array, row by row\n",
        "for row in new_array:\n",
        "  print(row)\n",
        "\n",
        "#iterating 2d array, elementwise\n",
        "for row in new_array:\n",
        "  for element in row:\n",
        "    print(element)\n",
        "\n"
      ],
      "metadata": {
        "colab": {
          "base_uri": "https://localhost:8080/"
        },
        "id": "cq6PBQTnI-Ko",
        "outputId": "c1625b87-6b77-483c-ea00-f3792200430d"
      },
      "execution_count": null,
      "outputs": [
        {
          "output_type": "stream",
          "name": "stdout",
          "text": [
            "5\n",
            "4\n",
            "3\n",
            "2\n",
            "1\n",
            "[19 14  3  7]\n",
            "[ 0  6 19 19]\n",
            "[11  8 19 11]\n",
            "[ 0 13 11 15]\n",
            "[ 3 12 18 10]\n",
            "[10 13  6  5]\n",
            "19\n",
            "14\n",
            "3\n",
            "7\n",
            "0\n",
            "6\n",
            "19\n",
            "19\n",
            "11\n",
            "8\n",
            "19\n",
            "11\n",
            "0\n",
            "13\n",
            "11\n",
            "15\n",
            "3\n",
            "12\n",
            "18\n",
            "10\n",
            "10\n",
            "13\n",
            "6\n",
            "5\n"
          ]
        }
      ]
    },
    {
      "cell_type": "code",
      "source": [
        "#cell 5: array search & sort\n",
        "#search for an item\n",
        "item= 101\n",
        "if item in new_array:\n",
        "  print('Item found')\n",
        "else:\n",
        "  print('item not found')\n",
        "\n",
        "#sort 2d array (sort each row)\n",
        "sorted= np.sort(new_array)\n",
        "print(sorted)\n",
        "\n",
        "#sort columnwise\n",
        "sorted_c= np.sort(new_array, axis=0)\n",
        "print(sorted_c)\n",
        "\n",
        "#sort in descending order. Not easy and straight, several workarounds are here. One of those is written below\n",
        "reverse_array= np.zeros_like (new_array)\n",
        "for r in range(0,new_array.shape[0]):\n",
        "  reverse_array[r]= np.sort(new_array[r])[::-1]\n",
        "\n",
        "print(reverse_array)\n",
        "\n",
        "#columnwise descending order sort\n",
        "reverse_array_c= np.zeros_like (new_array)\n",
        "for c in range(0,new_array.shape[1]):\n",
        "  reverse_array_c[:,c]= np.sort(new_array[:,c])[::-1]\n",
        "\n",
        "print(reverse_array_c)"
      ],
      "metadata": {
        "colab": {
          "base_uri": "https://localhost:8080/"
        },
        "id": "JiVCJs2cO6Fc",
        "outputId": "e7924c0a-899e-4fa2-d4d5-91e71802b367"
      },
      "execution_count": null,
      "outputs": [
        {
          "output_type": "stream",
          "name": "stdout",
          "text": [
            "item not found\n",
            "[[ 3  7 14 19]\n",
            " [ 0  6 19 19]\n",
            " [ 8 11 11 19]\n",
            " [ 0 11 13 15]\n",
            " [ 3 10 12 18]\n",
            " [ 5  6 10 13]]\n",
            "[[ 0  6  3  5]\n",
            " [ 0  8  6  7]\n",
            " [ 3 12 11 10]\n",
            " [10 13 18 11]\n",
            " [11 13 19 15]\n",
            " [19 14 19 19]]\n",
            "[[19 14  7  3]\n",
            " [19 19  6  0]\n",
            " [19 11 11  8]\n",
            " [15 13 11  0]\n",
            " [18 12 10  3]\n",
            " [13 10  6  5]]\n",
            "[[19 14 19 19]\n",
            " [11 13 19 15]\n",
            " [10 13 18 11]\n",
            " [ 3 12 11 10]\n",
            " [ 0  8  6  7]\n",
            " [ 0  6  3  5]]\n"
          ]
        }
      ]
    },
    {
      "cell_type": "code",
      "source": [
        "#cell 6: numpy- generating random numbers\n",
        "\n",
        "#random integers\n",
        "rand_ints= np.random.randint(-5,20,7)   #start, end, howmany\n",
        "print(rand_ints)\n",
        "\n",
        "#generate fixed set of random integers every time\n",
        "np.random.seed(42)\n",
        "rand_ints= np.random.randint(-5,20,7)   \n",
        "print(rand_ints)\n",
        "\n",
        "#random floats\n",
        "rand_floats= np.random.rand(2,4)    #shape\n",
        "print(rand_floats)\n",
        "\n",
        "#generating numbers following a distribution\n",
        "rand_gauss= np.random.normal (1,10,(4,5)) #avg, sd, size\n",
        "print(rand_gauss)\n",
        "\n",
        "#similar functions for binomial, multinomial, poisson, and other distributions\n",
        "#https://numpy.org/doc/stable/reference/random/generator.html#distributions"
      ],
      "metadata": {
        "colab": {
          "base_uri": "https://localhost:8080/"
        },
        "id": "eYVxxUgBSkMM",
        "outputId": "6ab21719-1a8c-4b38-f568-d9a88677e4e6"
      },
      "execution_count": null,
      "outputs": [
        {
          "output_type": "stream",
          "name": "stdout",
          "text": [
            "[10  9  9 13  6 17 14]\n",
            "[ 1 14  9  5  2 15  1]\n",
            "[[0.44583275 0.09997492 0.45924889 0.33370861]\n",
            " [0.14286682 0.65088847 0.05641158 0.72199877]]\n",
            "[[  1.22221827  -3.27792914  -4.3181741   -0.17475502   3.22078902]\n",
            " [ -6.67976502   2.42464602   0.65347816  12.34339266  -0.04745548]\n",
            " [ -4.25122851  20.12771271 -19.26719616  12.19423612   8.79192635]\n",
            " [-10.01097756  12.30228194   4.73118915  -2.86472951 -10.58770242]]\n"
          ]
        }
      ]
    },
    {
      "cell_type": "code",
      "source": [
        "#cell 7: numpy- mathematical functions\n",
        "arr1 = np.array([10, 20, 30, 40, 50, 60])\n",
        "arr2 = np.array([3, 5, 6, 8, 2, 33])\n",
        "\n",
        "\n",
        "arr_add= np.add(arr1,arr2)    #elementwise addition\n",
        "arr_sub= np.subtract(arr1,arr2) \n",
        "arr_mul= np.multiply(arr1,arr2)\n",
        "arr_div= np.divide(arr1,arr2)\n",
        "arr_remainder= np.mod(arr1,arr2)\n",
        "\n",
        "#average of an array\n",
        "avg= np.average(arr1)\n",
        "print(avg)\n",
        "\n",
        "#trigonometric\n",
        "x= np.sin (np.pi/2)     #parameter in radian\n",
        "print(x)"
      ],
      "metadata": {
        "colab": {
          "base_uri": "https://localhost:8080/"
        },
        "id": "yZ77AnIGSpDq",
        "outputId": "0b246559-0390-4b7f-9676-5b8a11e29397"
      },
      "execution_count": null,
      "outputs": [
        {
          "output_type": "stream",
          "name": "stdout",
          "text": [
            "35.0\n",
            "1.0\n"
          ]
        }
      ]
    },
    {
      "cell_type": "code",
      "source": [
        "#upload the file to colab\n",
        "from google.colab import files\n",
        "data = files.upload()\n",
        "\n",
        "\n"
      ],
      "metadata": {
        "colab": {
          "base_uri": "https://localhost:8080/",
          "height": 73
        },
        "id": "OP6i1zU8n83n",
        "outputId": "74ea1bdf-9569-4eb3-9415-8adda626d354"
      },
      "execution_count": null,
      "outputs": [
        {
          "output_type": "display_data",
          "data": {
            "text/plain": [
              "<IPython.core.display.HTML object>"
            ],
            "text/html": [
              "\n",
              "     <input type=\"file\" id=\"files-383bf93b-b043-4fdd-b946-9287050aac31\" name=\"files[]\" multiple disabled\n",
              "        style=\"border:none\" />\n",
              "     <output id=\"result-383bf93b-b043-4fdd-b946-9287050aac31\">\n",
              "      Upload widget is only available when the cell has been executed in the\n",
              "      current browser session. Please rerun this cell to enable.\n",
              "      </output>\n",
              "      <script>// Copyright 2017 Google LLC\n",
              "//\n",
              "// Licensed under the Apache License, Version 2.0 (the \"License\");\n",
              "// you may not use this file except in compliance with the License.\n",
              "// You may obtain a copy of the License at\n",
              "//\n",
              "//      http://www.apache.org/licenses/LICENSE-2.0\n",
              "//\n",
              "// Unless required by applicable law or agreed to in writing, software\n",
              "// distributed under the License is distributed on an \"AS IS\" BASIS,\n",
              "// WITHOUT WARRANTIES OR CONDITIONS OF ANY KIND, either express or implied.\n",
              "// See the License for the specific language governing permissions and\n",
              "// limitations under the License.\n",
              "\n",
              "/**\n",
              " * @fileoverview Helpers for google.colab Python module.\n",
              " */\n",
              "(function(scope) {\n",
              "function span(text, styleAttributes = {}) {\n",
              "  const element = document.createElement('span');\n",
              "  element.textContent = text;\n",
              "  for (const key of Object.keys(styleAttributes)) {\n",
              "    element.style[key] = styleAttributes[key];\n",
              "  }\n",
              "  return element;\n",
              "}\n",
              "\n",
              "// Max number of bytes which will be uploaded at a time.\n",
              "const MAX_PAYLOAD_SIZE = 100 * 1024;\n",
              "\n",
              "function _uploadFiles(inputId, outputId) {\n",
              "  const steps = uploadFilesStep(inputId, outputId);\n",
              "  const outputElement = document.getElementById(outputId);\n",
              "  // Cache steps on the outputElement to make it available for the next call\n",
              "  // to uploadFilesContinue from Python.\n",
              "  outputElement.steps = steps;\n",
              "\n",
              "  return _uploadFilesContinue(outputId);\n",
              "}\n",
              "\n",
              "// This is roughly an async generator (not supported in the browser yet),\n",
              "// where there are multiple asynchronous steps and the Python side is going\n",
              "// to poll for completion of each step.\n",
              "// This uses a Promise to block the python side on completion of each step,\n",
              "// then passes the result of the previous step as the input to the next step.\n",
              "function _uploadFilesContinue(outputId) {\n",
              "  const outputElement = document.getElementById(outputId);\n",
              "  const steps = outputElement.steps;\n",
              "\n",
              "  const next = steps.next(outputElement.lastPromiseValue);\n",
              "  return Promise.resolve(next.value.promise).then((value) => {\n",
              "    // Cache the last promise value to make it available to the next\n",
              "    // step of the generator.\n",
              "    outputElement.lastPromiseValue = value;\n",
              "    return next.value.response;\n",
              "  });\n",
              "}\n",
              "\n",
              "/**\n",
              " * Generator function which is called between each async step of the upload\n",
              " * process.\n",
              " * @param {string} inputId Element ID of the input file picker element.\n",
              " * @param {string} outputId Element ID of the output display.\n",
              " * @return {!Iterable<!Object>} Iterable of next steps.\n",
              " */\n",
              "function* uploadFilesStep(inputId, outputId) {\n",
              "  const inputElement = document.getElementById(inputId);\n",
              "  inputElement.disabled = false;\n",
              "\n",
              "  const outputElement = document.getElementById(outputId);\n",
              "  outputElement.innerHTML = '';\n",
              "\n",
              "  const pickedPromise = new Promise((resolve) => {\n",
              "    inputElement.addEventListener('change', (e) => {\n",
              "      resolve(e.target.files);\n",
              "    });\n",
              "  });\n",
              "\n",
              "  const cancel = document.createElement('button');\n",
              "  inputElement.parentElement.appendChild(cancel);\n",
              "  cancel.textContent = 'Cancel upload';\n",
              "  const cancelPromise = new Promise((resolve) => {\n",
              "    cancel.onclick = () => {\n",
              "      resolve(null);\n",
              "    };\n",
              "  });\n",
              "\n",
              "  // Wait for the user to pick the files.\n",
              "  const files = yield {\n",
              "    promise: Promise.race([pickedPromise, cancelPromise]),\n",
              "    response: {\n",
              "      action: 'starting',\n",
              "    }\n",
              "  };\n",
              "\n",
              "  cancel.remove();\n",
              "\n",
              "  // Disable the input element since further picks are not allowed.\n",
              "  inputElement.disabled = true;\n",
              "\n",
              "  if (!files) {\n",
              "    return {\n",
              "      response: {\n",
              "        action: 'complete',\n",
              "      }\n",
              "    };\n",
              "  }\n",
              "\n",
              "  for (const file of files) {\n",
              "    const li = document.createElement('li');\n",
              "    li.append(span(file.name, {fontWeight: 'bold'}));\n",
              "    li.append(span(\n",
              "        `(${file.type || 'n/a'}) - ${file.size} bytes, ` +\n",
              "        `last modified: ${\n",
              "            file.lastModifiedDate ? file.lastModifiedDate.toLocaleDateString() :\n",
              "                                    'n/a'} - `));\n",
              "    const percent = span('0% done');\n",
              "    li.appendChild(percent);\n",
              "\n",
              "    outputElement.appendChild(li);\n",
              "\n",
              "    const fileDataPromise = new Promise((resolve) => {\n",
              "      const reader = new FileReader();\n",
              "      reader.onload = (e) => {\n",
              "        resolve(e.target.result);\n",
              "      };\n",
              "      reader.readAsArrayBuffer(file);\n",
              "    });\n",
              "    // Wait for the data to be ready.\n",
              "    let fileData = yield {\n",
              "      promise: fileDataPromise,\n",
              "      response: {\n",
              "        action: 'continue',\n",
              "      }\n",
              "    };\n",
              "\n",
              "    // Use a chunked sending to avoid message size limits. See b/62115660.\n",
              "    let position = 0;\n",
              "    do {\n",
              "      const length = Math.min(fileData.byteLength - position, MAX_PAYLOAD_SIZE);\n",
              "      const chunk = new Uint8Array(fileData, position, length);\n",
              "      position += length;\n",
              "\n",
              "      const base64 = btoa(String.fromCharCode.apply(null, chunk));\n",
              "      yield {\n",
              "        response: {\n",
              "          action: 'append',\n",
              "          file: file.name,\n",
              "          data: base64,\n",
              "        },\n",
              "      };\n",
              "\n",
              "      let percentDone = fileData.byteLength === 0 ?\n",
              "          100 :\n",
              "          Math.round((position / fileData.byteLength) * 100);\n",
              "      percent.textContent = `${percentDone}% done`;\n",
              "\n",
              "    } while (position < fileData.byteLength);\n",
              "  }\n",
              "\n",
              "  // All done.\n",
              "  yield {\n",
              "    response: {\n",
              "      action: 'complete',\n",
              "    }\n",
              "  };\n",
              "}\n",
              "\n",
              "scope.google = scope.google || {};\n",
              "scope.google.colab = scope.google.colab || {};\n",
              "scope.google.colab._files = {\n",
              "  _uploadFiles,\n",
              "  _uploadFilesContinue,\n",
              "};\n",
              "})(self);\n",
              "</script> "
            ]
          },
          "metadata": {}
        },
        {
          "output_type": "stream",
          "name": "stdout",
          "text": [
            "Saving sample_employee_file.csv to sample_employee_file.csv\n"
          ]
        }
      ]
    },
    {
      "cell_type": "code",
      "source": [
        "#cell 8: pandas- read csv into DataFrame\n",
        "import pandas as pd\n",
        "employees_df= pd.read_csv ('sample_employee_file.csv')\n",
        "print(employees_df.head())\n",
        "print(employees_df.info())\n",
        "\n",
        "#iterating\n",
        "\n",
        "\n",
        "#analyzing data\n",
        "#histogram\n",
        "employees_df.hist(figsize=(10,10))\n",
        "\n",
        "#correlation\n",
        "cor= employees_df.corr()\n",
        "#print(cor)\n",
        "\n",
        "cor.style.background_gradient(cmap='coolwarm')    #heatmap\n",
        "#as we can see, employee_id does not have 'good corelation' with other parameters, so we can consider discarding this column\n",
        "\n"
      ],
      "metadata": {
        "colab": {
          "base_uri": "https://localhost:8080/",
          "height": 1000
        },
        "id": "HdlN9Vh8rlXw",
        "outputId": "67be0547-62c5-4f7a-a855-0cc0142517b2"
      },
      "execution_count": null,
      "outputs": [
        {
          "output_type": "stream",
          "name": "stdout",
          "text": [
            "   Employee_Id    Name  Age  Job_Id  Salary  Bonus\n",
            "0         1001   Anika   25       7    3000    300\n",
            "1         1002   Bella   56       1   10000   2000\n",
            "2         1003   Cathy   45       3    7000    750\n",
            "3         1004  Daniel   33       3    7100    755\n",
            "4         1005    Emma   23       7    3200    310\n",
            "<class 'pandas.core.frame.DataFrame'>\n",
            "RangeIndex: 15 entries, 0 to 14\n",
            "Data columns (total 6 columns):\n",
            " #   Column       Non-Null Count  Dtype \n",
            "---  ------       --------------  ----- \n",
            " 0   Employee_Id  15 non-null     int64 \n",
            " 1   Name         15 non-null     object\n",
            " 2   Age          15 non-null     int64 \n",
            " 3   Job_Id       15 non-null     int64 \n",
            " 4   Salary       15 non-null     int64 \n",
            " 5   Bonus        15 non-null     int64 \n",
            "dtypes: int64(5), object(1)\n",
            "memory usage: 848.0+ bytes\n",
            "None\n"
          ]
        },
        {
          "output_type": "execute_result",
          "data": {
            "text/plain": [
              "<pandas.io.formats.style.Styler at 0x7f73a6b48940>"
            ],
            "text/html": [
              "<style type=\"text/css\">\n",
              "#T_a6d51_row0_col0, #T_a6d51_row1_col1, #T_a6d51_row2_col2, #T_a6d51_row3_col3, #T_a6d51_row4_col4 {\n",
              "  background-color: #b40426;\n",
              "  color: #f1f1f1;\n",
              "}\n",
              "#T_a6d51_row0_col1 {\n",
              "  background-color: #aac7fd;\n",
              "  color: #000000;\n",
              "}\n",
              "#T_a6d51_row0_col2 {\n",
              "  background-color: #f6bfa6;\n",
              "  color: #000000;\n",
              "}\n",
              "#T_a6d51_row0_col3 {\n",
              "  background-color: #aec9fc;\n",
              "  color: #000000;\n",
              "}\n",
              "#T_a6d51_row0_col4 {\n",
              "  background-color: #89acfd;\n",
              "  color: #000000;\n",
              "}\n",
              "#T_a6d51_row1_col0 {\n",
              "  background-color: #799cf8;\n",
              "  color: #f1f1f1;\n",
              "}\n",
              "#T_a6d51_row1_col2 {\n",
              "  background-color: #6a8bef;\n",
              "  color: #f1f1f1;\n",
              "}\n",
              "#T_a6d51_row1_col3, #T_a6d51_row4_col1 {\n",
              "  background-color: #e26952;\n",
              "  color: #f1f1f1;\n",
              "}\n",
              "#T_a6d51_row1_col4 {\n",
              "  background-color: #df634e;\n",
              "  color: #f1f1f1;\n",
              "}\n",
              "#T_a6d51_row2_col0 {\n",
              "  background-color: #dadce0;\n",
              "  color: #000000;\n",
              "}\n",
              "#T_a6d51_row2_col1, #T_a6d51_row2_col3, #T_a6d51_row2_col4, #T_a6d51_row3_col2, #T_a6d51_row4_col0 {\n",
              "  background-color: #3b4cc0;\n",
              "  color: #f1f1f1;\n",
              "}\n",
              "#T_a6d51_row3_col0 {\n",
              "  background-color: #4e68d8;\n",
              "  color: #f1f1f1;\n",
              "}\n",
              "#T_a6d51_row3_col1 {\n",
              "  background-color: #e8765c;\n",
              "  color: #f1f1f1;\n",
              "}\n",
              "#T_a6d51_row3_col4 {\n",
              "  background-color: #ca3b37;\n",
              "  color: #f1f1f1;\n",
              "}\n",
              "#T_a6d51_row4_col2 {\n",
              "  background-color: #536edd;\n",
              "  color: #f1f1f1;\n",
              "}\n",
              "#T_a6d51_row4_col3 {\n",
              "  background-color: #c83836;\n",
              "  color: #f1f1f1;\n",
              "}\n",
              "</style>\n",
              "<table id=\"T_a6d51_\" class=\"dataframe\">\n",
              "  <thead>\n",
              "    <tr>\n",
              "      <th class=\"blank level0\" >&nbsp;</th>\n",
              "      <th class=\"col_heading level0 col0\" >Employee_Id</th>\n",
              "      <th class=\"col_heading level0 col1\" >Age</th>\n",
              "      <th class=\"col_heading level0 col2\" >Job_Id</th>\n",
              "      <th class=\"col_heading level0 col3\" >Salary</th>\n",
              "      <th class=\"col_heading level0 col4\" >Bonus</th>\n",
              "    </tr>\n",
              "  </thead>\n",
              "  <tbody>\n",
              "    <tr>\n",
              "      <th id=\"T_a6d51_level0_row0\" class=\"row_heading level0 row0\" >Employee_Id</th>\n",
              "      <td id=\"T_a6d51_row0_col0\" class=\"data row0 col0\" >1.000000</td>\n",
              "      <td id=\"T_a6d51_row0_col1\" class=\"data row0 col1\" >-0.128842</td>\n",
              "      <td id=\"T_a6d51_row0_col2\" class=\"data row0 col2\" >0.288950</td>\n",
              "      <td id=\"T_a6d51_row0_col3\" class=\"data row0 col3\" >-0.305681</td>\n",
              "      <td id=\"T_a6d51_row0_col4\" class=\"data row0 col4\" >-0.398294</td>\n",
              "    </tr>\n",
              "    <tr>\n",
              "      <th id=\"T_a6d51_level0_row1\" class=\"row_heading level0 row1\" >Age</th>\n",
              "      <td id=\"T_a6d51_row1_col0\" class=\"data row1 col0\" >-0.128842</td>\n",
              "      <td id=\"T_a6d51_row1_col1\" class=\"data row1 col1\" >1.000000</td>\n",
              "      <td id=\"T_a6d51_row1_col2\" class=\"data row1 col2\" >-0.691885</td>\n",
              "      <td id=\"T_a6d51_row1_col3\" class=\"data row1 col3\" >0.714316</td>\n",
              "      <td id=\"T_a6d51_row1_col4\" class=\"data row1 col4\" >0.760849</td>\n",
              "    </tr>\n",
              "    <tr>\n",
              "      <th id=\"T_a6d51_level0_row2\" class=\"row_heading level0 row2\" >Job_Id</th>\n",
              "      <td id=\"T_a6d51_row2_col0\" class=\"data row2 col0\" >0.288950</td>\n",
              "      <td id=\"T_a6d51_row2_col1\" class=\"data row2 col1\" >-0.691885</td>\n",
              "      <td id=\"T_a6d51_row2_col2\" class=\"data row2 col2\" >1.000000</td>\n",
              "      <td id=\"T_a6d51_row2_col3\" class=\"data row2 col3\" >-0.993561</td>\n",
              "      <td id=\"T_a6d51_row2_col4\" class=\"data row2 col4\" >-0.836316</td>\n",
              "    </tr>\n",
              "    <tr>\n",
              "      <th id=\"T_a6d51_level0_row3\" class=\"row_heading level0 row3\" >Salary</th>\n",
              "      <td id=\"T_a6d51_row3_col0\" class=\"data row3 col0\" >-0.305681</td>\n",
              "      <td id=\"T_a6d51_row3_col1\" class=\"data row3 col1\" >0.714316</td>\n",
              "      <td id=\"T_a6d51_row3_col2\" class=\"data row3 col2\" >-0.993561</td>\n",
              "      <td id=\"T_a6d51_row3_col3\" class=\"data row3 col3\" >1.000000</td>\n",
              "      <td id=\"T_a6d51_row3_col4\" class=\"data row3 col4\" >0.888018</td>\n",
              "    </tr>\n",
              "    <tr>\n",
              "      <th id=\"T_a6d51_level0_row4\" class=\"row_heading level0 row4\" >Bonus</th>\n",
              "      <td id=\"T_a6d51_row4_col0\" class=\"data row4 col0\" >-0.398294</td>\n",
              "      <td id=\"T_a6d51_row4_col1\" class=\"data row4 col1\" >0.760849</td>\n",
              "      <td id=\"T_a6d51_row4_col2\" class=\"data row4 col2\" >-0.836316</td>\n",
              "      <td id=\"T_a6d51_row4_col3\" class=\"data row4 col3\" >0.888018</td>\n",
              "      <td id=\"T_a6d51_row4_col4\" class=\"data row4 col4\" >1.000000</td>\n",
              "    </tr>\n",
              "  </tbody>\n",
              "</table>\n"
            ]
          },
          "metadata": {},
          "execution_count": 54
        },
        {
          "output_type": "display_data",
          "data": {
            "text/plain": [
              "<Figure size 720x720 with 6 Axes>"
            ],
            "image/png": "[encoded data removed]"
          },
          "metadata": {
            "needs_background": "light"
          }
        }
      ]
    },
    {
      "cell_type": "code",
      "source": [
        "#cell 9: matplotlib VS seaborn- matplotlib\n",
        "import matplotlib.pyplot as plt\n",
        "\n",
        "timestep=[1,2,3,4,5,6,7,8,9,10]\n",
        "stock_price_A=[100,103,100,102,104,99,98,99,100,101]\n",
        "stock_price_B=[50,53,55,55,57,55,54,57,58,59]\n",
        "\n",
        "plt.plot(timestep, stock_price_A, label='A')\n",
        "plt.plot(timestep, stock_price_B, label='B')\n",
        "plt.legend()\n"
      ],
      "metadata": {
        "colab": {
          "base_uri": "https://localhost:8080/",
          "height": 283
        },
        "id": "sWD1DM5T9vHS",
        "outputId": "29f53ec3-fa23-41c6-f3c9-3be9d95765ea"
      },
      "execution_count": 2,
      "outputs": [
        {
          "output_type": "execute_result",
          "data": {
            "text/plain": [
              "<matplotlib.legend.Legend at 0x7fd260165190>"
            ]
          },
          "metadata": {},
          "execution_count": 2
        },
        {
          "output_type": "display_data",
          "data": {
            "text/plain": [
              "<Figure size 432x288 with 1 Axes>"
            ],
            "image/png": "[encoded data removed]"
          },
          "metadata": {
            "needs_background": "light"
          }
        }
      ]
    },
    {
      "cell_type": "code",
      "source": [
        "#cell 10: matplotlib VS seaborn- seaborn\n",
        "import seaborn as sns\n",
        "sns.set()       #overwrite matplotlibs default parameters\n",
        "plt.plot(timestep, stock_price_A, label='A')\n",
        "plt.plot(timestep, stock_price_B, label='B')\n",
        "plt.legend()\n",
        "#the graph looks better!\n",
        "\n",
        "#reset seaborn's overwriting\n",
        "sns.reset_orig()"
      ],
      "metadata": {
        "colab": {
          "base_uri": "https://localhost:8080/",
          "height": 268
        },
        "id": "x3YfKWAC9_eB",
        "outputId": "e82b09a7-9a65-47a0-fb91-9a2c5288a0d6"
      },
      "execution_count": 3,
      "outputs": [
        {
          "output_type": "display_data",
          "data": {
            "text/plain": [
              "<Figure size 432x288 with 1 Axes>"
            ],
            "image/png": "[encoded data removed]"
          },
          "metadata": {}
        }
      ]
    },
    {
      "cell_type": "code",
      "source": [
        "#cell 10: exploring seaborn\n",
        "#since seaborn is an advanced/high-level version of matplotlib, exploring seaborn is sufficient\n",
        "\n",
        "#seaborn: visualizing large datasets\n",
        "#load your data. In this example, we are using one example dataset from Seaborn's buil-in datasets\n",
        "\n",
        "#let's see what datasets we have:\n",
        "sns.get_dataset_names()"
      ],
      "metadata": {
        "colab": {
          "base_uri": "https://localhost:8080/"
        },
        "id": "1dDgClRf-3mh",
        "outputId": "59ef46db-4078-4a75-f75c-c25981f4d495"
      },
      "execution_count": null,
      "outputs": [
        {
          "output_type": "execute_result",
          "data": {
            "text/plain": [
              "['anagrams',\n",
              " 'anscombe',\n",
              " 'attention',\n",
              " 'brain_networks',\n",
              " 'car_crashes',\n",
              " 'diamonds',\n",
              " 'dots',\n",
              " 'dowjones',\n",
              " 'exercise',\n",
              " 'flights',\n",
              " 'fmri',\n",
              " 'geyser',\n",
              " 'glue',\n",
              " 'healthexp',\n",
              " 'iris',\n",
              " 'mpg',\n",
              " 'penguins',\n",
              " 'planets',\n",
              " 'seaice',\n",
              " 'taxis',\n",
              " 'tips',\n",
              " 'titanic']"
            ]
          },
          "metadata": {},
          "execution_count": 76
        }
      ]
    },
    {
      "cell_type": "code",
      "source": [
        "#load the iris dataset\n",
        "iris= sns.load_dataset('iris')\n",
        "iris"
      ],
      "metadata": {
        "colab": {
          "base_uri": "https://localhost:8080/",
          "height": 423
        },
        "id": "ogm-PpJ4CCiy",
        "outputId": "f72aee1d-28d9-4571-aea5-c27315e6025c"
      },
      "execution_count": 4,
      "outputs": [
        {
          "output_type": "execute_result",
          "data": {
            "text/plain": [
              "     sepal_length  sepal_width  petal_length  petal_width    species\n",
              "0             5.1          3.5           1.4          0.2     setosa\n",
              "1             4.9          3.0           1.4          0.2     setosa\n",
              "2             4.7          3.2           1.3          0.2     setosa\n",
              "3             4.6          3.1           1.5          0.2     setosa\n",
              "4             5.0          3.6           1.4          0.2     setosa\n",
              "..            ...          ...           ...          ...        ...\n",
              "145           6.7          3.0           5.2          2.3  virginica\n",
              "146           6.3          2.5           5.0          1.9  virginica\n",
              "147           6.5          3.0           5.2          2.0  virginica\n",
              "148           6.2          3.4           5.4          2.3  virginica\n",
              "149           5.9          3.0           5.1          1.8  virginica\n",
              "\n",
              "[150 rows x 5 columns]"
            ],
            "text/html": [
              "\n",
              "  <div id=\"df-5c7e238d-4212-4c65-9b4b-2ceb8bfd1c55\">\n",
              "    <div class=\"colab-df-container\">\n",
              "      <div>\n",
              "<style scoped>\n",
              "    .dataframe tbody tr th:only-of-type {\n",
              "        vertical-align: middle;\n",
              "    }\n",
              "\n",
              "    .dataframe tbody tr th {\n",
              "        vertical-align: top;\n",
              "    }\n",
              "\n",
              "    .dataframe thead th {\n",
              "        text-align: right;\n",
              "    }\n",
              "</style>\n",
              "<table border=\"1\" class=\"dataframe\">\n",
              "  <thead>\n",
              "    <tr style=\"text-align: right;\">\n",
              "      <th></th>\n",
              "      <th>sepal_length</th>\n",
              "      <th>sepal_width</th>\n",
              "      <th>petal_length</th>\n",
              "      <th>petal_width</th>\n",
              "      <th>species</th>\n",
              "    </tr>\n",
              "  </thead>\n",
              "  <tbody>\n",
              "    <tr>\n",
              "      <th>0</th>\n",
              "      <td>5.1</td>\n",
              "      <td>3.5</td>\n",
              "      <td>1.4</td>\n",
              "      <td>0.2</td>\n",
              "      <td>setosa</td>\n",
              "    </tr>\n",
              "    <tr>\n",
              "      <th>1</th>\n",
              "      <td>4.9</td>\n",
              "      <td>3.0</td>\n",
              "      <td>1.4</td>\n",
              "      <td>0.2</td>\n",
              "      <td>setosa</td>\n",
              "    </tr>\n",
              "    <tr>\n",
              "      <th>2</th>\n",
              "      <td>4.7</td>\n",
              "      <td>3.2</td>\n",
              "      <td>1.3</td>\n",
              "      <td>0.2</td>\n",
              "      <td>setosa</td>\n",
              "    </tr>\n",
              "    <tr>\n",
              "      <th>3</th>\n",
              "      <td>4.6</td>\n",
              "      <td>3.1</td>\n",
              "      <td>1.5</td>\n",
              "      <td>0.2</td>\n",
              "      <td>setosa</td>\n",
              "    </tr>\n",
              "    <tr>\n",
              "      <th>4</th>\n",
              "      <td>5.0</td>\n",
              "      <td>3.6</td>\n",
              "      <td>1.4</td>\n",
              "      <td>0.2</td>\n",
              "      <td>setosa</td>\n",
              "    </tr>\n",
              "    <tr>\n",
              "      <th>...</th>\n",
              "      <td>...</td>\n",
              "      <td>...</td>\n",
              "      <td>...</td>\n",
              "      <td>...</td>\n",
              "      <td>...</td>\n",
              "    </tr>\n",
              "    <tr>\n",
              "      <th>145</th>\n",
              "      <td>6.7</td>\n",
              "      <td>3.0</td>\n",
              "      <td>5.2</td>\n",
              "      <td>2.3</td>\n",
              "      <td>virginica</td>\n",
              "    </tr>\n",
              "    <tr>\n",
              "      <th>146</th>\n",
              "      <td>6.3</td>\n",
              "      <td>2.5</td>\n",
              "      <td>5.0</td>\n",
              "      <td>1.9</td>\n",
              "      <td>virginica</td>\n",
              "    </tr>\n",
              "    <tr>\n",
              "      <th>147</th>\n",
              "      <td>6.5</td>\n",
              "      <td>3.0</td>\n",
              "      <td>5.2</td>\n",
              "      <td>2.0</td>\n",
              "      <td>virginica</td>\n",
              "    </tr>\n",
              "    <tr>\n",
              "      <th>148</th>\n",
              "      <td>6.2</td>\n",
              "      <td>3.4</td>\n",
              "      <td>5.4</td>\n",
              "      <td>2.3</td>\n",
              "      <td>virginica</td>\n",
              "    </tr>\n",
              "    <tr>\n",
              "      <th>149</th>\n",
              "      <td>5.9</td>\n",
              "      <td>3.0</td>\n",
              "      <td>5.1</td>\n",
              "      <td>1.8</td>\n",
              "      <td>virginica</td>\n",
              "    </tr>\n",
              "  </tbody>\n",
              "</table>\n",
              "<p>150 rows × 5 columns</p>\n",
              "</div>\n",
              "      <button class=\"colab-df-convert\" onclick=\"convertToInteractive('df-5c7e238d-4212-4c65-9b4b-2ceb8bfd1c55')\"\n",
              "              title=\"Convert this dataframe to an interactive table.\"\n",
              "              style=\"display:none;\">\n",
              "        \n",
              "  <svg xmlns=\"http://www.w3.org/2000/svg\" height=\"24px\"viewBox=\"0 0 24 24\"\n",
              "       width=\"24px\">\n",
              "    <path d=\"M0 0h24v24H0V0z\" fill=\"none\"/>\n",
              "    <path d=\"M18.56 5.44l.94 2.06.94-2.06 2.06-.94-2.06-.94-.94-2.06-.94 2.06-2.06.94zm-11 1L8.5 8.5l.94-2.06 2.06-.94-2.06-.94L8.5 2.5l-.94 2.06-2.06.94zm10 10l.94 2.06.94-2.06 2.06-.94-2.06-.94-.94-2.06-.94 2.06-2.06.94z\"/><path d=\"M17.41 7.96l-1.37-1.37c-.4-.4-.92-.59-1.43-.59-.52 0-1.04.2-1.43.59L10.3 9.45l-7.72 7.72c-.78.78-.78 2.05 0 2.83L4 21.41c.39.39.9.59 1.41.59.51 0 1.02-.2 1.41-.59l7.78-7.78 2.81-2.81c.8-.78.8-2.07 0-2.86zM5.41 20L4 18.59l7.72-7.72 1.47 1.35L5.41 20z\"/>\n",
              "  </svg>\n",
              "      </button>\n",
              "      \n",
              "  <style>\n",
              "    .colab-df-container {\n",
              "      display:flex;\n",
              "      flex-wrap:wrap;\n",
              "      gap: 12px;\n",
              "    }\n",
              "\n",
              "    .colab-df-convert {\n",
              "      background-color: #E8F0FE;\n",
              "      border: none;\n",
              "      border-radius: 50%;\n",
              "      cursor: pointer;\n",
              "      display: none;\n",
              "      fill: #1967D2;\n",
              "      height: 32px;\n",
              "      padding: 0 0 0 0;\n",
              "      width: 32px;\n",
              "    }\n",
              "\n",
              "    .colab-df-convert:hover {\n",
              "      background-color: #E2EBFA;\n",
              "      box-shadow: 0px 1px 2px rgba(60, 64, 67, 0.3), 0px 1px 3px 1px rgba(60, 64, 67, 0.15);\n",
              "      fill: #174EA6;\n",
              "    }\n",
              "\n",
              "    [theme=dark] .colab-df-convert {\n",
              "      background-color: #3B4455;\n",
              "      fill: #D2E3FC;\n",
              "    }\n",
              "\n",
              "    [theme=dark] .colab-df-convert:hover {\n",
              "      background-color: #434B5C;\n",
              "      box-shadow: 0px 1px 3px 1px rgba(0, 0, 0, 0.15);\n",
              "      filter: drop-shadow(0px 1px 2px rgba(0, 0, 0, 0.3));\n",
              "      fill: #FFFFFF;\n",
              "    }\n",
              "  </style>\n",
              "\n",
              "      <script>\n",
              "        const buttonEl =\n",
              "          document.querySelector('#df-5c7e238d-4212-4c65-9b4b-2ceb8bfd1c55 button.colab-df-convert');\n",
              "        buttonEl.style.display =\n",
              "          google.colab.kernel.accessAllowed ? 'block' : 'none';\n",
              "\n",
              "        async function convertToInteractive(key) {\n",
              "          const element = document.querySelector('#df-5c7e238d-4212-4c65-9b4b-2ceb8bfd1c55');\n",
              "          const dataTable =\n",
              "            await google.colab.kernel.invokeFunction('convertToInteractive',\n",
              "                                                     [key], {});\n",
              "          if (!dataTable) return;\n",
              "\n",
              "          const docLinkHtml = 'Like what you see? Visit the ' +\n",
              "            '<a target=\"_blank\" href=https://colab.research.google.com/notebooks/data_table.ipynb>data table notebook</a>'\n",
              "            + ' to learn more about interactive tables.';\n",
              "          element.innerHTML = '';\n",
              "          dataTable['output_type'] = 'display_data';\n",
              "          await google.colab.output.renderOutput(dataTable, element);\n",
              "          const docLink = document.createElement('div');\n",
              "          docLink.innerHTML = docLinkHtml;\n",
              "          element.appendChild(docLink);\n",
              "        }\n",
              "      </script>\n",
              "    </div>\n",
              "  </div>\n",
              "  "
            ]
          },
          "metadata": {},
          "execution_count": 4
        }
      ]
    },
    {
      "cell_type": "code",
      "source": [
        "#scatterplot\n",
        "#sns.scatterplot(x='petal_length', y='sepal_length', data=iris)\n",
        "\n",
        "#add one more dimension!\n",
        "#sns.scatterplot(x='petal_length', y='sepal_length', data=iris, hue='species')\n",
        "\n",
        "#can we add one more dimension?\n",
        "#sns.set(rc = {'figure.figsize':(15,15)})\n",
        "#sns.scatterplot(x='petal_length', y='sepal_length', data=iris, hue='species', size='sepal_width') #size of the datapoints depends on sepal_width now\n",
        "\n",
        "#change color palette\n",
        "#sns.scatterplot(x='petal_length', y='sepal_length', data=iris, hue='species', size='sepal_width', palette='YlGnBu')   #more palettes: coolwarm, deep, dark, YlOrRd etc.\n",
        "\n",
        "#histograms\n",
        "#sns.histplot(iris['petal_length'], kde=True, bins=10)   #kde to visualize the distribution\n",
        "#sns.set(rc = {'figure.figsize':(5,5)})\n",
        "#sns.histplot(iris['species'], bins=5) \n",
        "\n",
        "\n",
        "#boxplot\n",
        "sns.boxplot(x=iris['species'], y=iris['sepal_width'])\n",
        "\n",
        "#lineplot\n",
        "#sns.lineplot(x='petal_width', y='sepal_width', data=iris, hue='species', marker='*')\n",
        "\n",
        "#changing axis labels\n",
        "#myplot= sns.lineplot(x='petal_width', y='sepal_width', data=iris, hue='species', marker='*')\n",
        "#myplot.set_xlabel('Petal Width Values')\n",
        "#myplot.set_ylabel('Sepal Widht Values')\n",
        "\n",
        "#sns pairplot\n",
        "#sns.pairplot(iris, hue='species')\n",
        "\n",
        "\n"
      ],
      "metadata": {
        "colab": {
          "base_uri": "https://localhost:8080/",
          "height": 300
        },
        "id": "zV4kCHshCN_Z",
        "outputId": "098a447b-7cf1-4771-959f-0e1d9a4319c1"
      },
      "execution_count": 5,
      "outputs": [
        {
          "output_type": "execute_result",
          "data": {
            "text/plain": [
              "<matplotlib.axes._subplots.AxesSubplot at 0x7fd251d02f70>"
            ]
          },
          "metadata": {},
          "execution_count": 5
        },
        {
          "output_type": "display_data",
          "data": {
            "text/plain": [
              "<Figure size 432x288 with 1 Axes>"
            ],
            "image/png": "[encoded data removed]"
          },
          "metadata": {
            "needs_background": "light"
          }
        }
      ]
    },
    {
      "cell_type": "code",
      "source": [
        "#pie charts are not directly available in seaborn. We can still use matplotlib's pie!\n",
        "#plt.pie(iris['species'])      #ERROR! matplotlib is not smart enough to do the counting and draw the pie!\n",
        "\n",
        "#1. format data\n",
        "df1= iris.groupby(['species']).count()\n",
        "df1\n",
        "#draw pie chart\n",
        "mylabels= iris['species'].unique()\n",
        "counts= df1['sepal_length']\n",
        "plt.pie(counts, labels= mylabels)"
      ],
      "metadata": {
        "colab": {
          "base_uri": "https://localhost:8080/",
          "height": 425
        },
        "id": "ZDLwmFtfWX3s",
        "outputId": "be05ac90-e3d2-4c33-bc46-94697419f902"
      },
      "execution_count": null,
      "outputs": [
        {
          "output_type": "stream",
          "name": "stdout",
          "text": [
            "['setosa' 'versicolor' 'virginica']\n"
          ]
        },
        {
          "output_type": "execute_result",
          "data": {
            "text/plain": [
              "([<matplotlib.patches.Wedge at 0x7f73939a1970>,\n",
              "  <matplotlib.patches.Wedge at 0x7f73939a1e20>,\n",
              "  <matplotlib.patches.Wedge at 0x7f73939392e0>],\n",
              " [Text(0.5499999702695115, 0.9526279613277875, 'setosa'),\n",
              "  Text(-1.0999999999999954, -1.0298943258065002e-07, 'versicolor'),\n",
              "  Text(0.5500001486524352, -0.9526278583383436, 'virginica')])"
            ]
          },
          "metadata": {},
          "execution_count": 135
        },
        {
          "output_type": "display_data",
          "data": {
            "text/plain": [
              "<Figure size 360x360 with 1 Axes>"
            ],
            "image/png": "[encoded data removed]"
          },
          "metadata": {}
        }
      ]
    }
  ]
}